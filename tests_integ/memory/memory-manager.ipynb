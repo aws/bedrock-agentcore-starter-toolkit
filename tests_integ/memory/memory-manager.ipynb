{
 "cells": [
  {
   "cell_type": "code",
   "execution_count": 1,
   "metadata": {
    "ExecuteTime": {
     "end_time": "2025-09-27T19:47:26.324483Z",
     "start_time": "2025-09-27T19:47:26.322462Z"
    }
   },
   "outputs": [],
   "source": [
    "from bedrock_agentcore_starter_toolkit.operations.memory.manager import Memory, MemoryManager\n",
    "from bedrock_agentcore_starter_toolkit.operations.memory.models.strategies import SemanticStrategy, SummaryStrategy"
   ]
  },
  {
   "cell_type": "code",
   "execution_count": null,
   "metadata": {
    "ExecuteTime": {
     "end_time": "2025-09-27T19:47:26.904721Z",
     "start_time": "2025-09-27T19:47:26.328638Z"
    }
   },
   "outputs": [
    {
     "name": "stdout",
     "output_type": "stream",
     "text": [
      "\n",
      "========================= CONTROL PLANE DEMO =========================\n"
     ]
    },
    {
     "name": "stderr",
     "output_type": "stream",
     "text": [
      "✅ MemoryManager initialized for region: None\n"
     ]
    },
    {
     "name": "stdout",
     "output_type": "stream",
     "text": [
      "🔍 DEBUG: Starting control plane operations...\n"
     ]
    },
    {
     "name": "stderr",
     "output_type": "stream",
     "text": [
      "Memory already exists. Using existing memory ID: DemoLongTermMemory1-AJRz1XDfS6\n",
      "🔎 Retrieving memory resource with ID: DemoLongTermMemory1-AJRz1XDfS6...\n",
      "  ✅ Found memory: DemoLongTermMemory1-AJRz1XDfS6\n"
     ]
    },
    {
     "name": "stdout",
     "output_type": "stream",
     "text": [
      "🔍 DEBUG: long-term memory created successfully\n"
     ]
    },
    {
     "data": {
      "text/plain": [
       "{'arn': 'arn:aws:bedrock-agentcore:us-east-1:328307993871:memory/DemoLongTermMemory1-AJRz1XDfS6', 'id': 'DemoLongTermMemory1-AJRz1XDfS6', 'name': 'DemoLongTermMemory1', 'description': 'A temporary memory for short-lived conversations.', 'eventExpiryDuration': 90, 'status': 'ACTIVE', 'createdAt': datetime.datetime(2025, 9, 27, 15, 35, 20, 523000, tzinfo=tzlocal()), 'updatedAt': datetime.datetime(2025, 9, 27, 15, 44, 51, 65000, tzinfo=tzlocal()), 'strategies': [{'strategyId': 'SemanticStrategy-AYF3Xl8OoD', 'name': 'SemanticStrategy', 'description': 'A strategy for semantic understanding.', 'type': 'SEMANTIC', 'namespaces': ['support/user/{actorId}/{sessionId}'], 'createdAt': datetime.datetime(2025, 9, 27, 15, 35, 20, 523000, tzinfo=tzlocal()), 'updatedAt': datetime.datetime(2025, 9, 27, 15, 35, 20, 754000, tzinfo=tzlocal()), 'status': 'ACTIVE'}, {'strategyId': 'SummaryStrategy-o93FeU6Zdd', 'name': 'SummaryStrategy', 'description': 'A strategy for summarizing the conversation.', 'type': 'SUMMARIZATION', 'namespaces': ['support/user/{actorId}/{sessionId}'], 'createdAt': datetime.datetime(2025, 9, 27, 15, 44, 51, 175000, tzinfo=tzlocal()), 'updatedAt': datetime.datetime(2025, 9, 27, 15, 44, 51, 175000, tzinfo=tzlocal()), 'status': 'ACTIVE'}]}"
      ]
     },
     "execution_count": 2,
     "metadata": {},
     "output_type": "execute_result"
    }
   ],
   "source": [
    "print(\"\\n\" + \"=\" * 25 + \" CONTROL PLANE DEMO \" + \"=\" * 25)\n",
    "\n",
    "manager = MemoryManager()\n",
    "\n",
    "print(\"🔍 DEBUG: Starting control plane operations...\")\n",
    "\n",
    "# Memory creation using strategies with data classes\n",
    "memory1: Memory = manager.get_or_create_memory(\n",
    "    name=\"DemoLongTermMemory1\",\n",
    "    description=\"A temporary memory for short-lived conversations.\",\n",
    "    strategies=[\n",
    "        SemanticStrategy(\n",
    "            name=\"SemanticStrategy\",\n",
    "            description=\"A strategy for semantic understanding.\",\n",
    "        )\n",
    "    ],\n",
    ")\n",
    "print(\"🔍 DEBUG: long-term memory created successfully\")\n",
    "memory1"
   ]
  },
  {
   "cell_type": "code",
   "execution_count": null,
   "metadata": {
    "ExecuteTime": {
     "end_time": "2025-09-27T19:47:27.197308Z",
     "start_time": "2025-09-27T19:47:26.910254Z"
    }
   },
   "outputs": [
    {
     "name": "stderr",
     "output_type": "stream",
     "text": [
      "Memory already exists. Using existing memory ID: DemoLongTermMemory2-O63lir7uK6\n",
      "🔎 Retrieving memory resource with ID: DemoLongTermMemory2-O63lir7uK6...\n",
      "  ✅ Found memory: DemoLongTermMemory2-O63lir7uK6\n"
     ]
    },
    {
     "name": "stdout",
     "output_type": "stream",
     "text": [
      "🔍 DEBUG: Long-term memory created successfully\n"
     ]
    },
    {
     "data": {
      "text/plain": [
       "{'arn': 'arn:aws:bedrock-agentcore:us-east-1:328307993871:memory/DemoLongTermMemory2-O63lir7uK6', 'id': 'DemoLongTermMemory2-O63lir7uK6', 'name': 'DemoLongTermMemory2', 'description': 'A temporary memory for short-lived conversations.', 'eventExpiryDuration': 90, 'status': 'ACTIVE', 'createdAt': datetime.datetime(2025, 9, 27, 15, 38, 14, 362000, tzinfo=tzlocal()), 'updatedAt': datetime.datetime(2025, 9, 27, 15, 41, 9, 247000, tzinfo=tzlocal()), 'strategies': [{'strategyId': 'SummaryStrategy-j4HeHK8XCR', 'name': 'SummaryStrategy', 'description': 'A strategy for summarizing the conversation.', 'type': 'SUMMARIZATION', 'namespaces': ['support/user/{actorId}/{sessionId}'], 'createdAt': datetime.datetime(2025, 9, 27, 15, 41, 8, 278000, tzinfo=tzlocal()), 'updatedAt': datetime.datetime(2025, 9, 27, 15, 41, 8, 278000, tzinfo=tzlocal()), 'status': 'ACTIVE'}]}"
      ]
     },
     "execution_count": 3,
     "metadata": {},
     "output_type": "execute_result"
    }
   ],
   "source": [
    "# Memory creation using strategies without data classes\n",
    "memory2: Memory = manager.get_or_create_memory(\n",
    "    name=\"DemoLongTermMemory2\",\n",
    "    description=\"A temporary memory for long-lived conversations.\",\n",
    "    strategies=[\n",
    "        {\n",
    "            \"semanticMemoryStrategy\": {\n",
    "                \"name\": \"SemanticStrategy\",\n",
    "                \"description\": \"A strategy for semantic understanding.\",\n",
    "                \"namespaces\": [\"support/user/{actorId}/{sessionId}\"],\n",
    "            }\n",
    "        }\n",
    "    ],\n",
    ")\n",
    "print(\"🔍 DEBUG: Long-term memory created successfully\")\n",
    "memory2"
   ]
  },
  {
   "cell_type": "code",
   "execution_count": null,
   "metadata": {},
   "outputs": [
    {
     "name": "stderr",
     "output_type": "stream",
     "text": [
      "Memory already exists. Using existing memory ID: DemoLongTermMemory3-mP3Knz4YTX\n",
      "🔎 Retrieving memory resource with ID: DemoLongTermMemory3-mP3Knz4YTX...\n",
      "  ✅ Found memory: DemoLongTermMemory3-mP3Knz4YTX\n"
     ]
    },
    {
     "name": "stdout",
     "output_type": "stream",
     "text": [
      "🔍 DEBUG: Long-term memory created successfully\n"
     ]
    },
    {
     "data": {
      "text/plain": [
       "{'arn': 'arn:aws:bedrock-agentcore:us-east-1:328307993871:memory/DemoLongTermMemory3-mP3Knz4YTX', 'id': 'DemoLongTermMemory3-mP3Knz4YTX', 'name': 'DemoLongTermMemory3', 'description': 'A temporary memory for short-lived conversations.', 'eventExpiryDuration': 90, 'status': 'ACTIVE', 'createdAt': datetime.datetime(2025, 9, 29, 12, 8, 26, 264000, tzinfo=tzlocal()), 'updatedAt': datetime.datetime(2025, 9, 29, 12, 8, 26, 484000, tzinfo=tzlocal()), 'strategies': [{'strategyId': 'UserPreferenceStrategy-PMYICVDWE5', 'name': 'UserPreferenceStrategy', 'description': 'A strategy for user preference.', 'type': 'USER_PREFERENCE', 'namespaces': ['/strategies/{memoryStrategyId}/actors/{actorId}'], 'createdAt': datetime.datetime(2025, 9, 29, 12, 8, 26, 264000, tzinfo=tzlocal()), 'updatedAt': datetime.datetime(2025, 9, 29, 12, 8, 26, 484000, tzinfo=tzlocal()), 'status': 'ACTIVE'}]}"
      ]
     },
     "execution_count": 4,
     "metadata": {},
     "output_type": "execute_result"
    }
   ],
   "source": [
    "# Memory creation using strategies without data classes\n",
    "from bedrock_agentcore_starter_toolkit.operations.memory.models.strategies.user_preference import UserPreferenceStrategy\n",
    "\n",
    "memory3: Memory = manager.get_or_create_memory(\n",
    "    name=\"DemoLongTermMemory3\",\n",
    "    description=\"A temporary memory for long-lived conversations.\",\n",
    "    strategies=[\n",
    "        UserPreferenceStrategy(\n",
    "            name=\"UserPreferenceStrategy\",\n",
    "            description=\"A strategy for user preference.\",\n",
    "        )\n",
    "    ],\n",
    ")\n",
    "print(\"🔍 DEBUG: Long-term memory created successfully\")\n",
    "memory3"
   ]
  },
  {
   "cell_type": "code",
   "execution_count": null,
   "metadata": {},
   "outputs": [
    {
     "data": {
      "text/plain": [
       "[{'strategyId': 'UserPreferenceStrategy-PMYICVDWE5', 'name': 'UserPreferenceStrategy', 'description': 'A strategy for user preference.', 'type': 'USER_PREFERENCE', 'namespaces': ['/strategies/{memoryStrategyId}/actors/{actorId}'], 'createdAt': datetime.datetime(2025, 9, 29, 12, 8, 26, 264000, tzinfo=tzlocal()), 'updatedAt': datetime.datetime(2025, 9, 29, 12, 8, 26, 484000, tzinfo=tzlocal()), 'status': 'ACTIVE'}]"
      ]
     },
     "execution_count": 5,
     "metadata": {},
     "output_type": "execute_result"
    }
   ],
   "source": [
    "# Confirm server default namespaces are applied\n",
    "manager.get_memory_strategies(memory_id=memory3.id)"
   ]
  },
  {
   "cell_type": "code",
   "execution_count": null,
   "metadata": {
    "ExecuteTime": {
     "end_time": "2025-09-27T19:47:27.306295Z",
     "start_time": "2025-09-27T19:47:27.203230Z"
    }
   },
   "outputs": [
    {
     "name": "stdout",
     "output_type": "stream",
     "text": [
      "🔍 DEBUG: Memory found : {'arn': 'arn:aws:bedrock-agentcore:us-east-1:328307993871:memory/DemoLongTermMemory1-AJRz1XDfS6', 'id': 'DemoLongTermMemory1-AJRz1XDfS6', 'status': 'ACTIVE', 'createdAt': datetime.datetime(2025, 9, 27, 15, 35, 20, 523000, tzinfo=tzlocal()), 'updatedAt': datetime.datetime(2025, 9, 27, 15, 44, 51, 65000, tzinfo=tzlocal()), 'memoryId': 'DemoLongTermMemory1-AJRz1XDfS6'}\n",
      "🔍 DEBUG: Memory found : {'arn': 'arn:aws:bedrock-agentcore:us-east-1:328307993871:memory/DemoLongTermMemory2-O63lir7uK6', 'id': 'DemoLongTermMemory2-O63lir7uK6', 'status': 'ACTIVE', 'createdAt': datetime.datetime(2025, 9, 27, 15, 38, 14, 362000, tzinfo=tzlocal()), 'updatedAt': datetime.datetime(2025, 9, 27, 15, 41, 9, 247000, tzinfo=tzlocal()), 'memoryId': 'DemoLongTermMemory2-O63lir7uK6'}\n",
      "🔍 DEBUG: Memory found : {'arn': 'arn:aws:bedrock-agentcore:us-east-1:328307993871:memory/DemoLongTermMemory3-mP3Knz4YTX', 'id': 'DemoLongTermMemory3-mP3Knz4YTX', 'status': 'ACTIVE', 'createdAt': datetime.datetime(2025, 9, 29, 12, 8, 26, 264000, tzinfo=tzlocal()), 'updatedAt': datetime.datetime(2025, 9, 29, 12, 8, 26, 484000, tzinfo=tzlocal()), 'memoryId': 'DemoLongTermMemory3-mP3Knz4YTX'}\n",
      "🔍 DEBUG: Memory found : {'arn': 'arn:aws:bedrock-agentcore:us-east-1:328307993871:memory/TypedMemory-BMWCYo4kT8', 'id': 'TypedMemory-BMWCYo4kT8', 'status': 'ACTIVE', 'createdAt': datetime.datetime(2025, 9, 27, 16, 25, 2, 264000, tzinfo=tzlocal()), 'updatedAt': datetime.datetime(2025, 9, 27, 16, 25, 3, 666000, tzinfo=tzlocal()), 'memoryId': 'TypedMemory-BMWCYo4kT8'}\n"
     ]
    }
   ],
   "source": [
    "# List all memories\n",
    "for memory_summary in manager.list_memories():\n",
    "    print(f\"🔍 DEBUG: Memory found : {memory_summary}\")"
   ]
  },
  {
   "cell_type": "code",
   "execution_count": null,
   "metadata": {
    "ExecuteTime": {
     "end_time": "2025-09-27T19:47:27.462204Z",
     "start_time": "2025-09-27T19:47:27.316095Z"
    }
   },
   "outputs": [
    {
     "data": {
      "text/plain": [
       "[{'strategyId': 'SemanticStrategy-AYF3Xl8OoD', 'name': 'SemanticStrategy', 'description': 'A strategy for semantic understanding.', 'type': 'SEMANTIC', 'namespaces': ['support/user/{actorId}/{sessionId}'], 'createdAt': datetime.datetime(2025, 9, 27, 15, 35, 20, 523000, tzinfo=tzlocal()), 'updatedAt': datetime.datetime(2025, 9, 27, 15, 35, 20, 754000, tzinfo=tzlocal()), 'status': 'ACTIVE'},\n",
       " {'strategyId': 'SummaryStrategy-o93FeU6Zdd', 'name': 'SummaryStrategy', 'description': 'A strategy for summarizing the conversation.', 'type': 'SUMMARIZATION', 'namespaces': ['support/user/{actorId}/{sessionId}'], 'createdAt': datetime.datetime(2025, 9, 27, 15, 44, 51, 175000, tzinfo=tzlocal()), 'updatedAt': datetime.datetime(2025, 9, 27, 15, 44, 51, 175000, tzinfo=tzlocal()), 'status': 'ACTIVE'}]"
      ]
     },
     "execution_count": 7,
     "metadata": {},
     "output_type": "execute_result"
    }
   ],
   "source": [
    "# Get all the memory strategies available\n",
    "strategies = manager.get_memory_strategies(memory_id=memory1.id)\n",
    "strategies"
   ]
  },
  {
   "cell_type": "code",
   "execution_count": null,
   "metadata": {
    "ExecuteTime": {
     "end_time": "2025-09-27T19:47:27.468260Z",
     "start_time": "2025-09-27T19:47:27.465987Z"
    }
   },
   "outputs": [
    {
     "name": "stdout",
     "output_type": "stream",
     "text": [
      "🔍 DEBUG: Summary strategy already exists - skipping memory update\n"
     ]
    }
   ],
   "source": [
    "if \"SummaryStrategy\" not in [strategy.name for strategy in strategies]:\n",
    "    manager.add_strategy_and_wait(\n",
    "        memory_id=memory1.id,\n",
    "        strategy=SummaryStrategy(\n",
    "            name=\"SummaryStrategy\",\n",
    "            description=\"A strategy for summarizing the conversation.\",\n",
    "            namespaces=[\"support/user/{actorId}/{sessionId}\"],\n",
    "        ),\n",
    "    )\n",
    "    print(\"🔍 DEBUG: Summary strategy added successfully\")\n",
    "else:\n",
    "    print(\"🔍 DEBUG: Summary strategy already exists - skipping memory update\")"
   ]
  },
  {
   "cell_type": "code",
   "execution_count": null,
   "metadata": {
    "ExecuteTime": {
     "end_time": "2025-09-27T19:47:27.477723Z",
     "start_time": "2025-09-27T19:47:27.474865Z"
    }
   },
   "outputs": [
    {
     "data": {
      "text/plain": [
       "'A temporary memory for short-lived conversations.'"
      ]
     },
     "execution_count": 9,
     "metadata": {},
     "output_type": "execute_result"
    }
   ],
   "source": [
    "# Using direct access capability to show memory fields\n",
    "memory1.description"
   ]
  },
  {
   "cell_type": "code",
   "execution_count": null,
   "metadata": {
    "ExecuteTime": {
     "end_time": "2025-09-27T19:47:27.636202Z",
     "start_time": "2025-09-27T19:47:27.486734Z"
    }
   },
   "outputs": [
    {
     "name": "stderr",
     "output_type": "stream",
     "text": [
      "🔎 Retrieving memory resource with ID: DemoLongTermMemory1-AJRz1XDfS6...\n",
      "  ✅ Found memory: DemoLongTermMemory1-AJRz1XDfS6\n"
     ]
    }
   ],
   "source": [
    "# Fetch the memory again to see the updated strategies\n",
    "get_response = manager.get_memory(memory_id=memory1.id)"
   ]
  },
  {
   "cell_type": "code",
   "execution_count": null,
   "metadata": {
    "ExecuteTime": {
     "end_time": "2025-09-27T19:47:27.644091Z",
     "start_time": "2025-09-27T19:47:27.642076Z"
    }
   },
   "outputs": [
    {
     "data": {
      "text/plain": [
       "'ACTIVE'"
      ]
     },
     "execution_count": 11,
     "metadata": {},
     "output_type": "execute_result"
    }
   ],
   "source": [
    "get_response.status"
   ]
  },
  {
   "cell_type": "code",
   "execution_count": null,
   "metadata": {
    "ExecuteTime": {
     "end_time": "2025-09-27T19:47:27.813467Z",
     "start_time": "2025-09-27T19:47:27.658577Z"
    }
   },
   "outputs": [
    {
     "data": {
      "text/plain": [
       "[{'strategyId': 'SemanticStrategy-AYF3Xl8OoD', 'name': 'SemanticStrategy', 'description': 'A strategy for semantic understanding.', 'type': 'SEMANTIC', 'namespaces': ['support/user/{actorId}/{sessionId}'], 'createdAt': datetime.datetime(2025, 9, 27, 15, 35, 20, 523000, tzinfo=tzlocal()), 'updatedAt': datetime.datetime(2025, 9, 27, 15, 35, 20, 754000, tzinfo=tzlocal()), 'status': 'ACTIVE'},\n",
       " {'strategyId': 'SummaryStrategy-o93FeU6Zdd', 'name': 'SummaryStrategy', 'description': 'A strategy for summarizing the conversation.', 'type': 'SUMMARIZATION', 'namespaces': ['support/user/{actorId}/{sessionId}'], 'createdAt': datetime.datetime(2025, 9, 27, 15, 44, 51, 175000, tzinfo=tzlocal()), 'updatedAt': datetime.datetime(2025, 9, 27, 15, 44, 51, 175000, tzinfo=tzlocal()), 'status': 'ACTIVE'}]"
      ]
     },
     "execution_count": 12,
     "metadata": {},
     "output_type": "execute_result"
    }
   ],
   "source": [
    "manager.get_memory_strategies(memory_id=memory1.id)"
   ]
  },
  {
   "cell_type": "code",
   "execution_count": null,
   "metadata": {
    "ExecuteTime": {
     "end_time": "2025-09-27T19:47:27.923072Z",
     "start_time": "2025-09-27T19:47:27.817910Z"
    }
   },
   "outputs": [
    {
     "name": "stdout",
     "output_type": "stream",
     "text": [
      "ACTIVE\n",
      "ACTIVE\n",
      "ACTIVE\n",
      "ACTIVE\n"
     ]
    }
   ],
   "source": [
    "for memory in manager.list_memories():\n",
    "    print(memory.status)"
   ]
  },
  {
   "cell_type": "code",
   "execution_count": null,
   "metadata": {
    "ExecuteTime": {
     "end_time": "2025-09-27T19:47:28.097043Z",
     "start_time": "2025-09-27T19:47:27.932179Z"
    }
   },
   "outputs": [
    {
     "data": {
      "text/plain": [
       "['SemanticStrategy-AYF3Xl8OoD', 'SummaryStrategy-o93FeU6Zdd']"
      ]
     },
     "execution_count": 14,
     "metadata": {},
     "output_type": "execute_result"
    }
   ],
   "source": [
    "[strategy.strategyId for strategy in manager.get_memory_strategies(memory_id=memory1.id)]"
   ]
  },
  {
   "cell_type": "code",
   "execution_count": null,
   "metadata": {
    "ExecuteTime": {
     "end_time": "2025-09-27T19:47:28.106744Z",
     "start_time": "2025-09-27T19:47:28.105228Z"
    }
   },
   "outputs": [],
   "source": [
    "# try:\n",
    "#     for memory in manager.list_memories():\n",
    "#         manager.delete_memory(memory_id=memory.id)\n",
    "# except Exception as e:\n",
    "#     print(f\"🔍 DEBUG: Error deleting memory: {e}\")\n",
    "#     pass"
   ]
  },
  {
   "cell_type": "code",
   "execution_count": null,
   "metadata": {
    "ExecuteTime": {
     "end_time": "2025-09-27T19:47:28.514982Z",
     "start_time": "2025-09-27T19:47:28.113961Z"
    }
   },
   "outputs": [
    {
     "name": "stderr",
     "output_type": "stream",
     "text": [
      "🔎 Retrieving memory resource with ID: DemoLongTermMemory1-AJRz1XDfS6...\n",
      "  ✅ Found memory: DemoLongTermMemory1-AJRz1XDfS6\n",
      "🔎 Retrieving memory resource with ID: DemoLongTermMemory2-O63lir7uK6...\n",
      "  ✅ Found memory: DemoLongTermMemory2-O63lir7uK6\n",
      "🔎 Retrieving memory resource with ID: DemoLongTermMemory3-mP3Knz4YTX...\n"
     ]
    },
    {
     "name": "stdout",
     "output_type": "stream",
     "text": [
      "🔍 DEBUG: Memory found with status: ACTIVE\n",
      "🔍 DEBUG: Memory found with status: ACTIVE\n"
     ]
    },
    {
     "name": "stderr",
     "output_type": "stream",
     "text": [
      "  ✅ Found memory: DemoLongTermMemory3-mP3Knz4YTX\n",
      "🔎 Retrieving memory resource with ID: TypedMemory-BMWCYo4kT8...\n",
      "  ✅ Found memory: TypedMemory-BMWCYo4kT8\n"
     ]
    },
    {
     "name": "stdout",
     "output_type": "stream",
     "text": [
      "🔍 DEBUG: Memory found with status: ACTIVE\n",
      "🔍 DEBUG: Memory found with status: ACTIVE\n"
     ]
    }
   ],
   "source": [
    "try:\n",
    "    for memory in manager.list_memories():\n",
    "        memory = manager.get_memory(memory_id=memory.id)\n",
    "        print(f\"🔍 DEBUG: Memory found with status: {memory.status}\")\n",
    "except Exception as e:\n",
    "    print(f\"🔍 DEBUG: Memory deletion confirmed. Error: {e}\")"
   ]
  }
 ],
 "metadata": {
  "kernelspec": {
   "display_name": "data_science",
   "language": "python",
   "name": "python3"
  },
  "language_info": {
   "codemirror_mode": {
    "name": "ipython",
    "version": 3
   },
   "file_extension": ".py",
   "mimetype": "text/x-python",
   "name": "python",
   "nbconvert_exporter": "python",
   "pygments_lexer": "ipython3",
   "version": "3.11.9"
  }
 },
 "nbformat": 4,
 "nbformat_minor": 4
}
