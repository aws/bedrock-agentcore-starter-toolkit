{
 "cells": [
  {
   "cell_type": "code",
   "execution_count": 72,
   "metadata": {},
   "outputs": [],
   "source": [
    "from bedrock_agentcore_starter_toolkit.operations.memory.manager import Memory, MemoryManager"
   ]
  },
  {
   "cell_type": "code",
   "execution_count": 73,
   "metadata": {},
   "outputs": [
    {
     "name": "stderr",
     "output_type": "stream",
     "text": [
      "✅ MemoryManager initialized for region: us-east-1\n",
      "Failed to create memory: An error occurred (ValidationException) when calling the CreateMemory operation: Validation failed during CreateMemory: Memory with name DemoLongTermMemory already exists\n"
     ]
    },
    {
     "name": "stdout",
     "output_type": "stream",
     "text": [
      "\n",
      "========================= CONTROL PLANE DEMO =========================\n",
      "🔍 DEBUG: Starting control plane operations...\n"
     ]
    },
    {
     "name": "stderr",
     "output_type": "stream",
     "text": [
      "🔎 Retrieving memory resource with ID: DemoLongTermMemory-uJZDq62oUz...\n",
      "  ✅ Found memory: DemoLongTermMemory-uJZDq62oUz\n",
      "Memory already exists. Using existing memory ID: DemoLongTermMemory-uJZDq62oUz\n"
     ]
    },
    {
     "name": "stdout",
     "output_type": "stream",
     "text": [
      "🔍 DEBUG: Short-term memory created successfully\n"
     ]
    },
    {
     "data": {
      "text/plain": [
       "{'arn': 'arn:aws:bedrock-agentcore:us-east-1:328307993871:memory/DemoLongTermMemory-uJZDq62oUz', 'id': 'DemoLongTermMemory-uJZDq62oUz', 'name': 'DemoLongTermMemory', 'description': 'A memory for long-lived conversations.', 'eventExpiryDuration': 90, 'status': 'ACTIVE', 'createdAt': datetime.datetime(2025, 9, 18, 18, 58, 36, 280000, tzinfo=tzlocal()), 'updatedAt': datetime.datetime(2025, 9, 19, 17, 13, 14, 602000, tzinfo=tzlocal()), 'strategies': []}"
      ]
     },
     "execution_count": 73,
     "metadata": {},
     "output_type": "execute_result"
    }
   ],
   "source": [
    "print(\"\\n\" + \"=\"*25 + \" CONTROL PLANE DEMO \" + \"=\"*25)\n",
    "\n",
    "manager = MemoryManager(region_name=\"us-east-1\")\n",
    "\n",
    "print(\"🔍 DEBUG: Starting control plane operations...\")\n",
    "\n",
    "memory: Memory = manager.create_or_get_memory(\n",
    "    name=\"DemoLongTermMemory\",\n",
    "    description=\"A temporary memory for short-lived conversations.\"\n",
    ")\n",
    "print(\"🔍 DEBUG: Short-term memory created successfully\")\n",
    "memory"
   ]
  },
  {
   "cell_type": "code",
   "execution_count": 74,
   "metadata": {},
   "outputs": [],
   "source": [
    "# MEMORY_ID = \"DemoLongTermMemory-uJZDq62oUz\""
   ]
  },
  {
   "cell_type": "code",
   "execution_count": 75,
   "metadata": {},
   "outputs": [
    {
     "name": "stdout",
     "output_type": "stream",
     "text": [
      "🔍 DEBUG: Memory found : {'arn': 'arn:aws:bedrock-agentcore:us-east-1:328307993871:memory/DemoLongTermMemory-uJZDq62oUz', 'id': 'DemoLongTermMemory-uJZDq62oUz', 'status': 'ACTIVE', 'createdAt': datetime.datetime(2025, 9, 18, 18, 58, 36, 280000, tzinfo=tzlocal()), 'updatedAt': datetime.datetime(2025, 9, 19, 17, 13, 14, 602000, tzinfo=tzlocal()), 'memoryId': 'DemoLongTermMemory-uJZDq62oUz'}\n"
     ]
    }
   ],
   "source": [
    "# List all memories\n",
    "for memory_summary in manager.list_memories():\n",
    "    print(f\"🔍 DEBUG: Memory found : {memory_summary}\")"
   ]
  },
  {
   "cell_type": "code",
   "execution_count": 76,
   "metadata": {},
   "outputs": [],
   "source": [
    "# Get all the memory strategies available\n",
    "strategies = manager.get_memory_strategies(memory_id=memory.id)"
   ]
  },
  {
   "cell_type": "code",
   "execution_count": 77,
   "metadata": {},
   "outputs": [
    {
     "name": "stderr",
     "output_type": "stream",
     "text": [
      "Updated memory strategies for: DemoLongTermMemory-uJZDq62oUz\n",
      "Waiting for memory DemoLongTermMemory-uJZDq62oUz to return to ACTIVE state and strategies to reach terminal states...\n",
      "Memory DemoLongTermMemory-uJZDq62oUz is ACTIVE and all strategies are in terminal states (took 0 seconds)\n"
     ]
    },
    {
     "name": "stdout",
     "output_type": "stream",
     "text": [
      "🔍 DEBUG: Summary strategy added successfully\n"
     ]
    }
   ],
   "source": [
    "if \"SummaryStrategy\" not in [stragegy.name for stragegy in strategies]:\n",
    "    manager.add_summary_strategy_and_wait(\n",
    "        memory_id=memory.id,\n",
    "        name=\"SummaryStrategy\",\n",
    "        namespaces=[\"support/user/{actorId}/{sessionId}\"],\n",
    "    )\n",
    "    print(\"🔍 DEBUG: Summary strategy added successfully\")\n",
    "else:\n",
    "    print(\"🔍 DEBUG: Summary strategy already exists - skipping update\")"
   ]
  },
  {
   "cell_type": "code",
   "execution_count": 78,
   "metadata": {},
   "outputs": [
    {
     "data": {
      "text/plain": [
       "'A memory for long-lived conversations.'"
      ]
     },
     "execution_count": 78,
     "metadata": {},
     "output_type": "execute_result"
    }
   ],
   "source": [
    "# Using direct access capability to show memory fields\n",
    "memory.description"
   ]
  },
  {
   "cell_type": "code",
   "execution_count": 79,
   "metadata": {},
   "outputs": [
    {
     "name": "stderr",
     "output_type": "stream",
     "text": [
      "🔎 Retrieving memory resource with ID: DemoLongTermMemory-uJZDq62oUz...\n",
      "  ✅ Found memory: DemoLongTermMemory-uJZDq62oUz\n"
     ]
    }
   ],
   "source": [
    "# Fetch the memory again to see the updated strategies\n",
    "get_response = manager.get_memory(memory_id=memory.id)"
   ]
  },
  {
   "cell_type": "code",
   "execution_count": 80,
   "metadata": {},
   "outputs": [
    {
     "data": {
      "text/plain": [
       "'ACTIVE'"
      ]
     },
     "execution_count": 80,
     "metadata": {},
     "output_type": "execute_result"
    }
   ],
   "source": [
    "get_response.status"
   ]
  },
  {
   "cell_type": "code",
   "execution_count": 81,
   "metadata": {},
   "outputs": [
    {
     "data": {
      "text/plain": [
       "{'strategyId': 'SummaryStrategy-tmD3Ik8q30', 'name': 'SummaryStrategy', 'type': 'SUMMARIZATION', 'namespaces': ['support/user/{actorId}/{sessionId}'], 'createdAt': datetime.datetime(2025, 9, 19, 17, 13, 24, 969000, tzinfo=tzlocal()), 'updatedAt': datetime.datetime(2025, 9, 19, 17, 13, 24, 969000, tzinfo=tzlocal()), 'status': 'ACTIVE'}"
      ]
     },
     "execution_count": 81,
     "metadata": {},
     "output_type": "execute_result"
    }
   ],
   "source": [
    "strategy = manager.get_memory_strategies(memory_id=memory.id)[0]\n",
    "strategy"
   ]
  },
  {
   "cell_type": "code",
   "execution_count": 82,
   "metadata": {},
   "outputs": [
    {
     "name": "stderr",
     "output_type": "stream",
     "text": [
      "Updated memory strategies for: DemoLongTermMemory-uJZDq62oUz\n"
     ]
    },
    {
     "data": {
      "text/plain": [
       "[{'arn': 'arn:aws:bedrock-agentcore:us-east-1:328307993871:memory/DemoLongTermMemory-uJZDq62oUz', 'id': 'DemoLongTermMemory-uJZDq62oUz', 'status': 'ACTIVE', 'createdAt': datetime.datetime(2025, 9, 18, 18, 58, 36, 280000, tzinfo=tzlocal()), 'updatedAt': datetime.datetime(2025, 9, 19, 17, 13, 25, 486000, tzinfo=tzlocal()), 'memoryId': 'DemoLongTermMemory-uJZDq62oUz'}]"
      ]
     },
     "execution_count": 82,
     "metadata": {},
     "output_type": "execute_result"
    }
   ],
   "source": [
    "manager.delete_strategy(memory_id=memory.id, strategy_id=strategy[\"strategyId\"])\n",
    "manager.list_memories()"
   ]
  },
  {
   "cell_type": "code",
   "execution_count": 83,
   "metadata": {},
   "outputs": [
    {
     "data": {
      "text/plain": [
       "[]"
      ]
     },
     "execution_count": 83,
     "metadata": {},
     "output_type": "execute_result"
    }
   ],
   "source": [
    "manager.get_memory_strategies(memory_id=memory.id)"
   ]
  },
  {
   "cell_type": "code",
   "execution_count": 84,
   "metadata": {},
   "outputs": [],
   "source": [
    "# try:\n",
    "#     manager.delete_memory(memory_id=memory.id)\n",
    "# except Exception as e:\n",
    "#     print(f\"🔍 DEBUG: Error deleting memory: {e}\")\n",
    "#     pass"
   ]
  },
  {
   "cell_type": "code",
   "execution_count": 85,
   "metadata": {},
   "outputs": [
    {
     "name": "stderr",
     "output_type": "stream",
     "text": [
      "🔎 Retrieving memory resource with ID: DemoLongTermMemory-uJZDq62oUz...\n",
      "  ✅ Found memory: DemoLongTermMemory-uJZDq62oUz\n"
     ]
    },
    {
     "name": "stdout",
     "output_type": "stream",
     "text": [
      "🔍 DEBUG: Memory found with status: ACTIVE\n"
     ]
    }
   ],
   "source": [
    "try:\n",
    "    memory = manager.get_memory(memory_id=memory.id)\n",
    "    print(f\"🔍 DEBUG: Memory found with status: {memory.status}\")\n",
    "except Exception as e:\n",
    "    print(f\"🔍 DEBUG: Memory deletion confirmed. Error: {e}\")"
   ]
  }
 ],
 "metadata": {
  "kernelspec": {
   "display_name": "data_science",
   "language": "python",
   "name": "python3"
  },
  "language_info": {
   "codemirror_mode": {
    "name": "ipython",
    "version": 3
   },
   "file_extension": ".py",
   "mimetype": "text/x-python",
   "name": "python",
   "nbconvert_exporter": "python",
   "pygments_lexer": "ipython3",
   "version": "3.11.9"
  }
 },
 "nbformat": 4,
 "nbformat_minor": 4
}
