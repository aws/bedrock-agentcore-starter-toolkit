{
 "cells": [
  {
   "cell_type": "code",
   "execution_count": 1,
   "metadata": {},
   "outputs": [],
   "source": [
    "from bedrock_agentcore_starter_toolkit.operations.memory.manager import Memory, MemoryManager"
   ]
  },
  {
   "cell_type": "code",
   "execution_count": 2,
   "metadata": {},
   "outputs": [
    {
     "name": "stderr",
     "output_type": "stream",
     "text": [
      "✅ MemoryManager initialized for region: us-east-1\n"
     ]
    },
    {
     "name": "stdout",
     "output_type": "stream",
     "text": [
      "\n",
      "========================= CONTROL PLANE DEMO =========================\n",
      "🔍 DEBUG: Starting control plane operations...\n"
     ]
    },
    {
     "name": "stderr",
     "output_type": "stream",
     "text": [
      "Memory already exists. Using existing memory ID: DemoLongTermMemory1-wmbBEu8cdV\n",
      "🔎 Retrieving memory resource with ID: DemoLongTermMemory1-wmbBEu8cdV...\n",
      "  ✅ Found memory: DemoLongTermMemory1-wmbBEu8cdV\n"
     ]
    },
    {
     "name": "stdout",
     "output_type": "stream",
     "text": [
      "🔍 DEBUG: Short-term memory created successfully\n"
     ]
    },
    {
     "data": {
      "text/plain": [
       "{'arn': 'arn:aws:bedrock-agentcore:us-east-1:328307993871:memory/DemoLongTermMemory1-wmbBEu8cdV', 'id': 'DemoLongTermMemory1-wmbBEu8cdV', 'name': 'DemoLongTermMemory1', 'description': 'A temporary memory for short-lived conversations.', 'eventExpiryDuration': 90, 'status': 'ACTIVE', 'createdAt': datetime.datetime(2025, 9, 23, 17, 12, 36, 37000, tzinfo=tzlocal()), 'updatedAt': datetime.datetime(2025, 9, 23, 17, 12, 36, 37000, tzinfo=tzlocal()), 'strategies': []}"
      ]
     },
     "execution_count": 2,
     "metadata": {},
     "output_type": "execute_result"
    }
   ],
   "source": [
    "print(\"\\n\" + \"=\" * 25 + \" CONTROL PLANE DEMO \" + \"=\" * 25)\n",
    "\n",
    "manager = MemoryManager(region_name=\"us-east-1\")\n",
    "\n",
    "print(\"🔍 DEBUG: Starting control plane operations...\")\n",
    "\n",
    "memory: Memory = manager.get_or_create_memory(\n",
    "    name=\"DemoLongTermMemory1\",\n",
    "    description=\"A temporary memory for short-lived conversations.\"\n",
    ")\n",
    "print(\"🔍 DEBUG: Short-term memory created successfully\")\n",
    "memory"
   ]
  },
  {
   "cell_type": "code",
   "execution_count": 3,
   "metadata": {},
   "outputs": [],
   "source": [
    "# MEMORY_ID = \"DemoLongTermMemory-uJZDq62oUz\""
   ]
  },
  {
   "cell_type": "code",
   "execution_count": 4,
   "metadata": {},
   "outputs": [
    {
     "name": "stdout",
     "output_type": "stream",
     "text": [
      "🔍 DEBUG: Memory found : {'arn': 'arn:aws:bedrock-agentcore:us-east-1:328307993871:memory/DemoLongTermMemory-9t9zeCFzmr', 'id': 'DemoLongTermMemory-9t9zeCFzmr', 'status': 'ACTIVE', 'createdAt': datetime.datetime(2025, 9, 18, 19, 3, 35, 654000, tzinfo=tzlocal()), 'updatedAt': datetime.datetime(2025, 9, 23, 16, 32, 6, 846000, tzinfo=tzlocal()), 'memoryId': 'DemoLongTermMemory-9t9zeCFzmr'}\n",
      "🔍 DEBUG: Memory found : {'arn': 'arn:aws:bedrock-agentcore:us-east-1:328307993871:memory/DemoLongTermMemory1-wmbBEu8cdV', 'id': 'DemoLongTermMemory1-wmbBEu8cdV', 'status': 'ACTIVE', 'createdAt': datetime.datetime(2025, 9, 23, 17, 12, 36, 37000, tzinfo=tzlocal()), 'updatedAt': datetime.datetime(2025, 9, 23, 17, 12, 36, 37000, tzinfo=tzlocal()), 'memoryId': 'DemoLongTermMemory1-wmbBEu8cdV'}\n"
     ]
    }
   ],
   "source": [
    "# List all memories\n",
    "for memory_summary in manager.list_memories():\n",
    "    print(f\"🔍 DEBUG: Memory found : {memory_summary}\")"
   ]
  },
  {
   "cell_type": "code",
   "execution_count": 5,
   "metadata": {},
   "outputs": [],
   "source": [
    "# Get all the memory strategies available\n",
    "strategies = manager.get_memory_strategies(memory_id=memory.id)"
   ]
  },
  {
   "cell_type": "code",
   "execution_count": 6,
   "metadata": {},
   "outputs": [
    {
     "name": "stderr",
     "output_type": "stream",
     "text": [
      "Updated memory strategies for: DemoLongTermMemory1-wmbBEu8cdV\n",
      "Waiting for memory DemoLongTermMemory1-wmbBEu8cdV to return to ACTIVE state and strategies to reach terminal states...\n",
      "Memory DemoLongTermMemory1-wmbBEu8cdV is ACTIVE and all strategies are in terminal states (took 172 seconds)\n"
     ]
    },
    {
     "name": "stdout",
     "output_type": "stream",
     "text": [
      "🔍 DEBUG: Summary strategy added successfully\n"
     ]
    }
   ],
   "source": [
    "if \"SummaryStrategy\" not in [stragegy.name for stragegy in strategies]:\n",
    "    manager.add_summary_strategy_and_wait(\n",
    "        memory_id=memory.id,\n",
    "        name=\"SummaryStrategy\",\n",
    "        namespaces=[\"support/user/{actorId}/{sessionId}\"],\n",
    "    )\n",
    "    print(\"🔍 DEBUG: Summary strategy added successfully\")\n",
    "else:\n",
    "    print(\"🔍 DEBUG: Summary strategy already exists - skipping update\")"
   ]
  },
  {
   "cell_type": "code",
   "execution_count": 7,
   "metadata": {},
   "outputs": [
    {
     "data": {
      "text/plain": [
       "'A temporary memory for short-lived conversations.'"
      ]
     },
     "execution_count": 7,
     "metadata": {},
     "output_type": "execute_result"
    }
   ],
   "source": [
    "# Using direct access capability to show memory fields\n",
    "memory.description"
   ]
  },
  {
   "cell_type": "code",
   "execution_count": 8,
   "metadata": {},
   "outputs": [
    {
     "name": "stderr",
     "output_type": "stream",
     "text": [
      "🔎 Retrieving memory resource with ID: DemoLongTermMemory1-wmbBEu8cdV...\n",
      "  ✅ Found memory: DemoLongTermMemory1-wmbBEu8cdV\n"
     ]
    }
   ],
   "source": [
    "# Fetch the memory again to see the updated strategies\n",
    "get_response = manager.get_memory(memory_id=memory.id)"
   ]
  },
  {
   "cell_type": "code",
   "execution_count": 9,
   "metadata": {},
   "outputs": [
    {
     "data": {
      "text/plain": [
       "'ACTIVE'"
      ]
     },
     "execution_count": 9,
     "metadata": {},
     "output_type": "execute_result"
    }
   ],
   "source": [
    "get_response.status"
   ]
  },
  {
   "cell_type": "code",
   "execution_count": 10,
   "metadata": {},
   "outputs": [
    {
     "data": {
      "text/plain": [
       "{'strategyId': 'SummaryStrategy-ZUUW38BIkp', 'name': 'SummaryStrategy', 'type': 'SUMMARIZATION', 'namespaces': ['support/user/{actorId}/{sessionId}'], 'createdAt': datetime.datetime(2025, 9, 24, 12, 53, 34, 698000, tzinfo=tzlocal()), 'updatedAt': datetime.datetime(2025, 9, 24, 12, 53, 34, 949000, tzinfo=tzlocal()), 'status': 'ACTIVE'}"
      ]
     },
     "execution_count": 10,
     "metadata": {},
     "output_type": "execute_result"
    }
   ],
   "source": [
    "strategy = manager.get_memory_strategies(memory_id=memory.id)[0]\n",
    "strategy"
   ]
  },
  {
   "cell_type": "code",
   "execution_count": 11,
   "metadata": {},
   "outputs": [
    {
     "name": "stderr",
     "output_type": "stream",
     "text": [
      "Updated memory strategies for: DemoLongTermMemory1-wmbBEu8cdV\n"
     ]
    },
    {
     "data": {
      "text/plain": [
       "[{'arn': 'arn:aws:bedrock-agentcore:us-east-1:328307993871:memory/DemoLongTermMemory-9t9zeCFzmr', 'id': 'DemoLongTermMemory-9t9zeCFzmr', 'status': 'ACTIVE', 'createdAt': datetime.datetime(2025, 9, 18, 19, 3, 35, 654000, tzinfo=tzlocal()), 'updatedAt': datetime.datetime(2025, 9, 23, 16, 32, 6, 846000, tzinfo=tzlocal()), 'memoryId': 'DemoLongTermMemory-9t9zeCFzmr'},\n",
       " {'arn': 'arn:aws:bedrock-agentcore:us-east-1:328307993871:memory/DemoLongTermMemory1-wmbBEu8cdV', 'id': 'DemoLongTermMemory1-wmbBEu8cdV', 'status': 'ACTIVE', 'createdAt': datetime.datetime(2025, 9, 23, 17, 12, 36, 37000, tzinfo=tzlocal()), 'updatedAt': datetime.datetime(2025, 9, 24, 12, 56, 28, 122000, tzinfo=tzlocal()), 'memoryId': 'DemoLongTermMemory1-wmbBEu8cdV'}]"
      ]
     },
     "execution_count": 11,
     "metadata": {},
     "output_type": "execute_result"
    }
   ],
   "source": [
    "manager.delete_strategy(memory_id=memory.id, strategy_id=strategy[\"strategyId\"])\n",
    "manager.list_memories()"
   ]
  },
  {
   "cell_type": "code",
   "execution_count": 12,
   "metadata": {},
   "outputs": [
    {
     "data": {
      "text/plain": [
       "[]"
      ]
     },
     "execution_count": 12,
     "metadata": {},
     "output_type": "execute_result"
    }
   ],
   "source": [
    "manager.get_memory_strategies(memory_id=memory.id)"
   ]
  },
  {
   "cell_type": "code",
   "execution_count": 13,
   "metadata": {},
   "outputs": [],
   "source": [
    "# try:\n",
    "#     manager.delete_memory(memory_id=memory.id)\n",
    "# except Exception as e:\n",
    "#     print(f\"🔍 DEBUG: Error deleting memory: {e}\")\n",
    "#     pass"
   ]
  },
  {
   "cell_type": "code",
   "execution_count": 14,
   "metadata": {},
   "outputs": [
    {
     "name": "stderr",
     "output_type": "stream",
     "text": [
      "🔎 Retrieving memory resource with ID: DemoLongTermMemory1-wmbBEu8cdV...\n",
      "  ✅ Found memory: DemoLongTermMemory1-wmbBEu8cdV\n"
     ]
    },
    {
     "name": "stdout",
     "output_type": "stream",
     "text": [
      "🔍 DEBUG: Memory found with status: ACTIVE\n"
     ]
    }
   ],
   "source": [
    "try:\n",
    "    memory = manager.get_memory(memory_id=memory.id)\n",
    "    print(f\"🔍 DEBUG: Memory found with status: {memory.status}\")\n",
    "except Exception as e:\n",
    "    print(f\"🔍 DEBUG: Memory deletion confirmed. Error: {e}\")"
   ]
  }
 ],
 "metadata": {
  "kernelspec": {
   "display_name": "data_science",
   "language": "python",
   "name": "python3"
  },
  "language_info": {
   "codemirror_mode": {
    "name": "ipython",
    "version": 3
   },
   "file_extension": ".py",
   "mimetype": "text/x-python",
   "name": "python",
   "nbconvert_exporter": "python",
   "pygments_lexer": "ipython3",
   "version": "3.11.9"
  }
 },
 "nbformat": 4,
 "nbformat_minor": 4
}
