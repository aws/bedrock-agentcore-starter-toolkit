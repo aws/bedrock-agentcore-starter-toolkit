{
 "cells": [
  {
   "cell_type": "code",
   "execution_count": 44,
   "metadata": {},
   "outputs": [],
   "source": [
    "from bedrock_agentcore_starter_toolkit.operations.memory.manager import Memory, MemoryManager"
   ]
  },
  {
   "cell_type": "code",
   "execution_count": 45,
   "metadata": {},
   "outputs": [
    {
     "name": "stderr",
     "output_type": "stream",
     "text": [
      "✅ MemoryManager initialized for region: us-east-1\n"
     ]
    },
    {
     "name": "stdout",
     "output_type": "stream",
     "text": [
      "\n",
      "========================= CONTROL PLANE DEMO =========================\n",
      "🔍 DEBUG: Starting control plane operations...\n"
     ]
    },
    {
     "name": "stderr",
     "output_type": "stream",
     "text": [
      "Created memory: DemoShortTermMemory-qYfMcPGJW4\n",
      "Created memory DemoShortTermMemory-qYfMcPGJW4, waiting for ACTIVE status...\n",
      "Memory DemoShortTermMemory-qYfMcPGJW4 is now ACTIVE (took 0 seconds)\n"
     ]
    },
    {
     "name": "stdout",
     "output_type": "stream",
     "text": [
      "🔍 DEBUG: Short-term memory created successfully\n"
     ]
    },
    {
     "data": {
      "text/plain": [
       "{'arn': 'arn:aws:bedrock-agentcore:us-east-1:513358348478:memory/DemoShortTermMemory-qYfMcPGJW4', 'id': 'DemoShortTermMemory-qYfMcPGJW4', 'name': 'DemoShortTermMemory', 'description': 'A temporary memory for short-lived conversations.', 'eventExpiryDuration': 90, 'status': 'ACTIVE', 'createdAt': datetime.datetime(2025, 9, 16, 15, 38, 50, 99000, tzinfo=tzlocal()), 'updatedAt': datetime.datetime(2025, 9, 16, 15, 38, 50, 99000, tzinfo=tzlocal()), 'strategies': []}"
      ]
     },
     "execution_count": 45,
     "metadata": {},
     "output_type": "execute_result"
    }
   ],
   "source": [
    "print(\"\\n\" + \"=\"*25 + \" CONTROL PLANE DEMO \" + \"=\"*25)\n",
    "\n",
    "manager = MemoryManager(region_name=\"us-east-1\")\n",
    "\n",
    "print(\"🔍 DEBUG: Starting control plane operations...\")\n",
    "\n",
    "memory: Memory = manager.create_or_get_memory(\n",
    "    name=\"DemoShortTermMemory\",\n",
    "    description=\"A temporary memory for short-lived conversations.\"\n",
    ")\n",
    "print(\"🔍 DEBUG: Short-term memory created successfully\")\n",
    "memory"
   ]
  },
  {
   "cell_type": "code",
   "execution_count": 46,
   "metadata": {},
   "outputs": [
    {
     "name": "stdout",
     "output_type": "stream",
     "text": [
      "🔍 DEBUG: Memory found : {'arn': 'arn:aws:bedrock-agentcore:us-east-1:513358348478:memory/DemoLongTermMemory-MT54FhBkHr', 'id': 'DemoLongTermMemory-MT54FhBkHr', 'status': 'ACTIVE', 'createdAt': datetime.datetime(2025, 9, 11, 15, 46, 45, 704000, tzinfo=tzlocal()), 'updatedAt': datetime.datetime(2025, 9, 11, 15, 46, 49, 382000, tzinfo=tzlocal()), 'memoryId': 'DemoLongTermMemory-MT54FhBkHr'}\n",
      "🔍 DEBUG: Memory found : {'arn': 'arn:aws:bedrock-agentcore:us-east-1:513358348478:memory/DemoShortTermMemory-qYfMcPGJW4', 'id': 'DemoShortTermMemory-qYfMcPGJW4', 'status': 'ACTIVE', 'createdAt': datetime.datetime(2025, 9, 16, 15, 38, 50, 99000, tzinfo=tzlocal()), 'updatedAt': datetime.datetime(2025, 9, 16, 15, 38, 50, 99000, tzinfo=tzlocal()), 'memoryId': 'DemoShortTermMemory-qYfMcPGJW4'}\n",
      "🔍 DEBUG: Memory found : {'arn': 'arn:aws:bedrock-agentcore:us-east-1:513358348478:memory/TempMemory-I0XlaWFLpB', 'id': 'TempMemory-I0XlaWFLpB', 'status': 'ACTIVE', 'createdAt': datetime.datetime(2025, 9, 11, 16, 19, 35, 204000, tzinfo=tzlocal()), 'updatedAt': datetime.datetime(2025, 9, 11, 16, 19, 35, 204000, tzinfo=tzlocal()), 'memoryId': 'TempMemory-I0XlaWFLpB'}\n"
     ]
    }
   ],
   "source": [
    "# List all memories\n",
    "for memory_summary in manager.list_memories():\n",
    "    print(f\"🔍 DEBUG: Memory found : {memory_summary}\")"
   ]
  },
  {
   "cell_type": "code",
   "execution_count": 47,
   "metadata": {},
   "outputs": [],
   "source": [
    "# Get all the memory strategies available\n",
    "strategies = manager.get_memory_strategies(memory_id=memory.id)"
   ]
  },
  {
   "cell_type": "code",
   "execution_count": 48,
   "metadata": {},
   "outputs": [
    {
     "name": "stderr",
     "output_type": "stream",
     "text": [
      "Updated memory strategies for: DemoShortTermMemory-qYfMcPGJW4\n",
      "Waiting for memory DemoShortTermMemory-qYfMcPGJW4 to return to ACTIVE state and strategies to reach terminal states...\n",
      "Memory DemoShortTermMemory-qYfMcPGJW4 is ACTIVE and all strategies are in terminal states (took 162 seconds)\n"
     ]
    },
    {
     "name": "stdout",
     "output_type": "stream",
     "text": [
      "🔍 DEBUG: Summary strategy added successfully\n"
     ]
    }
   ],
   "source": [
    "if \"SummaryStrategy\" not in [stragegy.name for stragegy in strategies]:\n",
    "    manager.add_summary_strategy_and_wait(\n",
    "        memory_id=memory.id,\n",
    "        name=\"SummaryStrategy\",\n",
    "        namespaces=[\"support/{actorId}/{sessionId}/short_term_memory\"],\n",
    "    )\n",
    "    print(\"🔍 DEBUG: Summary strategy added successfully\")\n",
    "else:\n",
    "    print(\"🔍 DEBUG: Summary strategy already exists - skipping update\")"
   ]
  },
  {
   "cell_type": "code",
   "execution_count": 49,
   "metadata": {},
   "outputs": [
    {
     "data": {
      "text/plain": [
       "'A temporary memory for short-lived conversations.'"
      ]
     },
     "execution_count": 49,
     "metadata": {},
     "output_type": "execute_result"
    }
   ],
   "source": [
    "# Using direct access capability to show memory fields\n",
    "memory.description"
   ]
  },
  {
   "cell_type": "code",
   "execution_count": 50,
   "metadata": {},
   "outputs": [
    {
     "name": "stderr",
     "output_type": "stream",
     "text": [
      "🔎 Retrieving memory resource with ID: DemoShortTermMemory-qYfMcPGJW4...\n",
      "  ✅ Found memory: DemoShortTermMemory-qYfMcPGJW4\n"
     ]
    }
   ],
   "source": [
    "# Fetch the memory again to see the updated strategies\n",
    "get_response = manager.get_memory(memory_id=memory.id)"
   ]
  },
  {
   "cell_type": "code",
   "execution_count": 51,
   "metadata": {},
   "outputs": [
    {
     "data": {
      "text/plain": [
       "'ACTIVE'"
      ]
     },
     "execution_count": 51,
     "metadata": {},
     "output_type": "execute_result"
    }
   ],
   "source": [
    "get_response.status"
   ]
  },
  {
   "cell_type": "code",
   "execution_count": 52,
   "metadata": {},
   "outputs": [
    {
     "data": {
      "text/plain": [
       "{'strategyId': 'SummaryStrategy-40aech3T22', 'name': 'SummaryStrategy', 'type': 'SUMMARIZATION', 'namespaces': ['support/{actorId}/{sessionId}/short_term_memory'], 'createdAt': datetime.datetime(2025, 9, 16, 15, 38, 50, 975000, tzinfo=tzlocal()), 'updatedAt': datetime.datetime(2025, 9, 16, 15, 38, 51, 583000, tzinfo=tzlocal()), 'status': 'ACTIVE'}"
      ]
     },
     "execution_count": 52,
     "metadata": {},
     "output_type": "execute_result"
    }
   ],
   "source": [
    "strategy = manager.get_memory_strategies(memory_id=memory.id)[0]\n",
    "strategy"
   ]
  },
  {
   "cell_type": "code",
   "execution_count": 53,
   "metadata": {},
   "outputs": [
    {
     "name": "stderr",
     "output_type": "stream",
     "text": [
      "Updated memory strategies for: DemoShortTermMemory-qYfMcPGJW4\n"
     ]
    },
    {
     "data": {
      "text/plain": [
       "{'arn': 'arn:aws:bedrock-agentcore:us-east-1:513358348478:memory/DemoShortTermMemory-qYfMcPGJW4', 'id': 'DemoShortTermMemory-qYfMcPGJW4', 'name': 'DemoShortTermMemory', 'description': 'A temporary memory for short-lived conversations.', 'eventExpiryDuration': 90, 'status': 'ACTIVE', 'createdAt': datetime.datetime(2025, 9, 16, 15, 38, 50, 99000, tzinfo=tzlocal()), 'updatedAt': datetime.datetime(2025, 9, 16, 15, 41, 34, 836000, tzinfo=tzlocal()), 'strategies': []}"
      ]
     },
     "execution_count": 53,
     "metadata": {},
     "output_type": "execute_result"
    }
   ],
   "source": [
    "manager.delete_strategy(memory_id=memory.id, strategy_id=strategy[\"strategyId\"])"
   ]
  },
  {
   "cell_type": "code",
   "execution_count": 54,
   "metadata": {},
   "outputs": [
    {
     "data": {
      "text/plain": [
       "[]"
      ]
     },
     "execution_count": 54,
     "metadata": {},
     "output_type": "execute_result"
    }
   ],
   "source": [
    "manager.get_memory_strategies(memory_id=memory.id)"
   ]
  },
  {
   "cell_type": "code",
   "execution_count": 55,
   "metadata": {},
   "outputs": [],
   "source": [
    "# try:\n",
    "#     manager.delete_memory(memory_id=memory.id)\n",
    "# except Exception as e:\n",
    "#     print(f\"🔍 DEBUG: Error deleting memory: {e}\")\n",
    "#     pass"
   ]
  },
  {
   "cell_type": "code",
   "execution_count": 56,
   "metadata": {},
   "outputs": [
    {
     "name": "stderr",
     "output_type": "stream",
     "text": [
      "🔎 Retrieving memory resource with ID: DemoShortTermMemory-qYfMcPGJW4...\n",
      "  ✅ Found memory: DemoShortTermMemory-qYfMcPGJW4\n"
     ]
    },
    {
     "name": "stdout",
     "output_type": "stream",
     "text": [
      "🔍 DEBUG: Memory found with status: ACTIVE\n"
     ]
    }
   ],
   "source": [
    "try:\n",
    "    memory = manager.get_memory(memory_id=memory.id)\n",
    "    print(f\"🔍 DEBUG: Memory found with status: {memory.status}\")\n",
    "except Exception as e:\n",
    "    print(f\"🔍 DEBUG: Memory deletion confirmed. Error: {e}\")"
   ]
  }
 ],
 "metadata": {
  "kernelspec": {
   "display_name": "data_science",
   "language": "python",
   "name": "python3"
  },
  "language_info": {
   "codemirror_mode": {
    "name": "ipython",
    "version": 3
   },
   "file_extension": ".py",
   "mimetype": "text/x-python",
   "name": "python",
   "nbconvert_exporter": "python",
   "pygments_lexer": "ipython3",
   "version": "3.11.9"
  }
 },
 "nbformat": 4,
 "nbformat_minor": 4
}
